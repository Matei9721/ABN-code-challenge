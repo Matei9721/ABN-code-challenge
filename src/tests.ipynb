{
 "cells": [
  {
   "cell_type": "code",
   "execution_count": 1,
   "metadata": {
    "collapsed": true
   },
   "outputs": [],
   "source": [
    "from pyspark.sql import SparkSession\n",
    "spark = SparkSession.builder.appName('ABN-assignment').getOrCreate()"
   ]
  },
  {
   "cell_type": "code",
   "execution_count": 2,
   "outputs": [],
   "source": [
    "clients = spark.read.csv(\"../data/input/dataset_one.csv\", header=True)"
   ],
   "metadata": {
    "collapsed": false
   }
  },
  {
   "cell_type": "code",
   "execution_count": 3,
   "outputs": [
    {
     "name": "stdout",
     "output_type": "stream",
     "text": [
      "+---+----------+----------+--------------------+--------------+\n",
      "| id|first_name| last_name|               email|       country|\n",
      "+---+----------+----------+--------------------+--------------+\n",
      "|  1|    Feliza|    Eusden|  feusden0@ameblo.jp|        France|\n",
      "|  2| Priscilla|   Le Pine|plepine1@biglobe....|        France|\n",
      "|  3|    Jaimie|    Sandes|jsandes2@reuters.com|        France|\n",
      "|  4|      Nari|   Dolphin|ndolphin3@cbsloca...|        France|\n",
      "|  5|     Garik|     Farre|gfarre4@economist...|        France|\n",
      "|  6|   Kordula|   Broodes| kbroodes5@amazon.de|        France|\n",
      "|  7|     Rakel|   Ingliby|    ringliby6@ft.com| United States|\n",
      "|  8|      Derk| Mattielli|dmattielli7@slide...| United States|\n",
      "|  9|    Karrah|   Boshard|   kboshard8@ihg.com|        France|\n",
      "| 10| Friedrich|  Kreutzer|fkreutzer9@busine...|        France|\n",
      "| 11|      Conn|   Claiden| cclaidena@vimeo.com|        France|\n",
      "| 12|     Karel|   Crippin| kcrippinb@google.pl|        France|\n",
      "| 13| Millisent|     Joint| mjointc@state.tx.us|        France|\n",
      "| 14|   Valeria|McCloughen| vmccloughend@gov.uk|        France|\n",
      "| 15|   Monique|  Bernardo|mbernardoe@scient...| United States|\n",
      "| 16|    Callie|    d'Arcy|cdarcyf@people.co...| United States|\n",
      "| 17|   Demetri|Bridgwater|dbridgwaterg@youk...| United States|\n",
      "| 18|   Richard|    Drinan|rdrinanh@odnoklas...|United Kingdom|\n",
      "| 19|    Benjie|  Stuttman|bstuttmani@cpanel...| United States|\n",
      "| 20|  Claresta|Martinetto|cmartinettoj@mapy.cz|        France|\n",
      "+---+----------+----------+--------------------+--------------+\n",
      "only showing top 20 rows\n",
      "\n"
     ]
    }
   ],
   "source": [
    "clients.show()"
   ],
   "metadata": {
    "collapsed": false
   }
  },
  {
   "cell_type": "code",
   "execution_count": 4,
   "outputs": [],
   "source": [
    "client_data = spark.read.csv(\"../data/input/dataset_two.csv\", header=True)"
   ],
   "metadata": {
    "collapsed": false
   }
  },
  {
   "cell_type": "code",
   "execution_count": 5,
   "outputs": [
    {
     "name": "stdout",
     "output_type": "stream",
     "text": [
      "+---+--------------------+--------------------+------------------+\n",
      "| id|               btc_a|                cc_t|              cc_n|\n",
      "+---+--------------------+--------------------+------------------+\n",
      "|  1|1wjtPamAZeGhRnZfh...|       visa-electron|  4175006996999270|\n",
      "|  2|1Js9BA1rV31hJFmN2...|                 jcb|  3587679584356527|\n",
      "|  3|1CoG9ciLQVQCnia5o...| diners-club-enroute|   201876885481838|\n",
      "|  4|1GNvinVKGzPBVNZSc...|              switch|564182038040530730|\n",
      "|  5|1DHTzZ7ypu3EzWtLB...|                 jcb|  3555559025151828|\n",
      "|  6|1LWktvit3XBCJNrsj...|                 jcb|  3580083825272493|\n",
      "|  7|1J71SRGqUjhqPuHaZ...|              switch|491193585665108260|\n",
      "|  8|1Q5FAwgXbhRxP1uYp...|          mastercard|  5100174550682620|\n",
      "|  9|1QKy8RoeWR48nrwkn...|diners-club-carte...|    30343863921001|\n",
      "| 10|1NRDQBCtuDqm8Qomr...|diners-club-carte...|    30559612937267|\n",
      "| 11|1HcqQ5Ys77sJm3ZJv...|                visa|     4937793997478|\n",
      "| 12|1EncEr6Vd5ywk96un...|                 jcb|  3569513122126013|\n",
      "| 13|14bMXV3h1S6KxGHde...|                 jcb|  3537645802098952|\n",
      "| 14|1Gi1ZJsBDqCztVjtc...|            bankcard|  5602232103395992|\n",
      "| 15|1GnNjsnbBTw6w9WHn...|                 jcb|  3558941392668773|\n",
      "| 16|17y4HG6vY9wDZmeu5...|                 jcb|  3579496825654275|\n",
      "| 17|14reD6Z1kUjg8QC5Y...|                 jcb|  3563252716889142|\n",
      "| 18|1ErM8yuF3ytzzxLy1...|      china-unionpay| 56022230876188334|\n",
      "| 19|1FeH4KecDLZYXEcAu...|          mastercard|  5100176279014886|\n",
      "| 20|14iPptCE59bQXGocz...|                 jcb|  3531510529019283|\n",
      "+---+--------------------+--------------------+------------------+\n",
      "only showing top 20 rows\n",
      "\n"
     ]
    }
   ],
   "source": [
    "client_data.show()"
   ],
   "metadata": {
    "collapsed": false
   }
  },
  {
   "cell_type": "code",
   "execution_count": 7,
   "outputs": [],
   "source": [
    "from transformers import ColumnRemover, CountryFilter, RenameColumns\n",
    "from pyspark.ml import Pipeline"
   ],
   "metadata": {
    "collapsed": false
   }
  },
  {
   "cell_type": "code",
   "execution_count": 17,
   "outputs": [],
   "source": [
    "country_filter = CountryFilter(countries_to_filter=['Netherlands', 'United Kingdom'])\n",
    "remove_pii_clients = ColumnRemover(columns_to_remove=[\"first_name\", \"last_name\"])\n",
    "column_renamer = RenameColumns(column_dict={\"id\":\"client_identifier\", \"btc_a\":\"bitcoin_address\", \"cc_t\": \"credit_card_type\"})\n",
    "remove_credit_card = ColumnRemover(columns_to_remove=[\"cc_n\"])\n",
    "\n",
    "client_pipeline = Pipeline(stages=[remove_pii_clients, country_filter])\n",
    "client_data_pipeline = Pipeline(stages=[remove_credit_card])"
   ],
   "metadata": {
    "collapsed": false
   }
  },
  {
   "cell_type": "code",
   "execution_count": 18,
   "outputs": [],
   "source": [
    "client_fit = client_pipeline.fit(clients)\n",
    "client_output = client_fit.transform(clients)"
   ],
   "metadata": {
    "collapsed": false
   }
  },
  {
   "cell_type": "code",
   "execution_count": 19,
   "outputs": [],
   "source": [
    "client_data_fit = client_data_pipeline.fit(client_data)\n",
    "client_data_output = client_data_fit.transform(client_data)"
   ],
   "metadata": {
    "collapsed": false
   }
  },
  {
   "cell_type": "code",
   "execution_count": 20,
   "outputs": [],
   "source": [
    "final_data = client_output.join(client_data_output, on=\"id\")\n",
    "final_data = column_renamer.transform(final_data)"
   ],
   "metadata": {
    "collapsed": false
   }
  },
  {
   "cell_type": "code",
   "execution_count": 21,
   "outputs": [
    {
     "name": "stdout",
     "output_type": "stream",
     "text": [
      "+-----------------+--------------------+--------------+--------------------+--------------------+\n",
      "|client_identifier|               email|       country|     bitcoin_address|    credit_card_type|\n",
      "+-----------------+--------------------+--------------+--------------------+--------------------+\n",
      "|               18|rdrinanh@odnoklas...|United Kingdom|1ErM8yuF3ytzzxLy1...|      china-unionpay|\n",
      "|               32|wbamfordv@t-onlin...|United Kingdom|12sxmYnPcADAXw1Yk...|             maestro|\n",
      "|               33|swestallw@blinkli...|United Kingdom|1GZ7QB7GUFSWnkBHm...|          mastercard|\n",
      "|               34|erosengrenx@usato...|United Kingdom|12o8zrHx6snCPbtko...|       visa-electron|\n",
      "|               36|dbuckthorpz@tmall...|   Netherlands|15X53Z9B9jUNrvFpb...|diners-club-inter...|\n",
      "|               62|  bbarham1p@wisc.edu|   Netherlands|16qpYVt6YAAx4JYjz...|                 jcb|\n",
      "|               67|lbeavors1u@techno...|United Kingdom|12ya1ED93ApPBQRSC...|            bankcard|\n",
      "|               70|fdresse1x@bloglin...|United Kingdom|1F8zXTEaf4AFpztMN...|          mastercard|\n",
      "|               91|aeplate2i@webeden...|United Kingdom|19MZSy1H8S4SaXsmS...|diners-club-carte...|\n",
      "|              105|linfante2w@telegr...|   Netherlands|13j6FKzrLgumLUqeY...|                 jcb|\n",
      "|              108|  rpartkya2z@cdc.gov|   Netherlands|1RcsodKknm8thkCL6...|             maestro|\n",
      "|              109|    mdory30@uiuc.edu|   Netherlands|1HxV2jkyM3PXbsH4q...|                 jcb|\n",
      "|              110|rswindle31@tmall.com|   Netherlands|15cRJ4mzZd4Vgd33x...|      china-unionpay|\n",
      "|              124|wdarco3f@geocitie...|   Netherlands|1CB7AdhTFBXmxuABm...|             maestro|\n",
      "|              128|vnapthine3j@ning.com|   Netherlands|16DbYq1KR8DVSQu5E...| diners-club-enroute|\n",
      "|              165|hheinecke4k@alter...|   Netherlands|1KgbP1KXt5xs2sBLu...|                 jcb|\n",
      "|              177|awissbey4w@geocit...|United Kingdom|1AJzqEgbbFh2TNLFZ...|     americanexpress|\n",
      "|              189|     etsar58@ovh.net|   Netherlands|1PktCHyic9G4aZu15...|                 jcb|\n",
      "|              194| igreated5d@live.com|   Netherlands|12KTfvJwTfnJn3dFt...|                 jcb|\n",
      "|              197|  pvolette5g@ask.com|United Kingdom|1Q6UV84patYXfzEdA...| diners-club-enroute|\n",
      "+-----------------+--------------------+--------------+--------------------+--------------------+\n",
      "only showing top 20 rows\n",
      "\n"
     ]
    }
   ],
   "source": [
    "final_data.show()"
   ],
   "metadata": {
    "collapsed": false
   }
  },
  {
   "cell_type": "code",
   "execution_count": null,
   "outputs": [],
   "source": [],
   "metadata": {
    "collapsed": false
   }
  },
  {
   "cell_type": "code",
   "execution_count": null,
   "outputs": [],
   "source": [],
   "metadata": {
    "collapsed": false
   }
  },
  {
   "cell_type": "code",
   "execution_count": 17,
   "outputs": [],
   "source": [
    "from pyspark import keyword_only\n",
    "from pyspark.ml import Transformer\n",
    "from pyspark.ml.param.shared import HasOutputCols, Param, Params\n",
    "from pyspark.ml.util import DefaultParamsReadable, DefaultParamsWritable\n",
    "\n",
    "class ColumnRemover(Transformer, HasOutputCols, DefaultParamsReadable, DefaultParamsWritable,):\n",
    "\n",
    "    columns_to_remove = Param(\n",
    "        Params._dummy(),\n",
    "        \"columns_to_remove\",\n",
    "        \"Column to remove\",\n",
    "    )\n",
    "\n",
    "    @keyword_only\n",
    "    def __init__(self, columns_to_remove = ['first_name', 'last_name']):\n",
    "        super(ColumnRemover, self).__init__()\n",
    "        self._setDefault(columns_to_remove=['first_name', 'last_name'])\n",
    "        kwargs = self._input_kwargs\n",
    "        self._set(**kwargs)\n",
    "\n",
    "    @keyword_only\n",
    "    def setParams(self,  columns_to_remove=['first_name', 'last_name']):\n",
    "        \"\"\"\n",
    "        setParams(self, value=0.0)\n",
    "        Sets params for this SetValueTransformer.\n",
    "        \"\"\"\n",
    "        kwargs = self._input_kwargs\n",
    "        return self._set(**kwargs)\n",
    "\n",
    "    def setValue(self, columns_to_remove):\n",
    "        \"\"\"\n",
    "        Sets the value of :py:attr:`value`.\n",
    "        \"\"\"\n",
    "        return self._set(columns_to_remove=columns_to_remove)\n",
    "\n",
    "    def getColumnToRemove(self):\n",
    "        \"\"\"\n",
    "        Gets the value of :py:attr:`value` or its default value.\n",
    "        \"\"\"\n",
    "        return self.getOrDefault(self.columns_to_remove)\n",
    "\n",
    "    def _transform(self, dataset):\n",
    "        return dataset.drop(*self.getColumnToRemove())"
   ],
   "metadata": {
    "collapsed": false
   }
  },
  {
   "cell_type": "code",
   "execution_count": 22,
   "outputs": [],
   "source": [
    "from pyspark import keyword_only\n",
    "from pyspark.ml import Transformer\n",
    "from pyspark.ml.param.shared import HasOutputCols, Param, Params\n",
    "from pyspark.ml.util import DefaultParamsReadable, DefaultParamsWritable\n",
    "import pyspark.sql.functions as F\n",
    "\n",
    "class CountryFilter(Transformer, HasOutputCols, DefaultParamsReadable, DefaultParamsWritable,):\n",
    "\n",
    "    countries_to_filter = Param(\n",
    "        Params._dummy(),\n",
    "        \"countries_to_filter\",\n",
    "        \"What countries to keep.\",\n",
    "    )\n",
    "\n",
    "    @keyword_only\n",
    "    def __init__(self, countries_to_filter = ['first_name', 'last_name']):\n",
    "        super(CountryFilter, self).__init__()\n",
    "        self._setDefault(countries_to_filter=['first_name', 'last_name'])\n",
    "        kwargs = self._input_kwargs\n",
    "        self._set(**kwargs)\n",
    "\n",
    "    @keyword_only\n",
    "    def setParams(self,  countries_to_filter=['first_name', 'last_name']):\n",
    "        \"\"\"\n",
    "        setParams(self, value=0.0)\n",
    "        Sets params for this SetValueTransformer.\n",
    "        \"\"\"\n",
    "        kwargs = self._input_kwargs\n",
    "        return self._set(**kwargs)\n",
    "\n",
    "    def setValue(self, countries_to_filter):\n",
    "        \"\"\"\n",
    "        Sets the value of :py:attr:`value`.\n",
    "        \"\"\"\n",
    "        return self._set(countries_to_filter=countries_to_filter)\n",
    "\n",
    "    def getCountriesToFilter(self):\n",
    "        \"\"\"\n",
    "        Gets the value of :py:attr:`value` or its default value.\n",
    "        \"\"\"\n",
    "        return self.getOrDefault(self.countries_to_filter)\n",
    "\n",
    "    def _transform(self, dataset):\n",
    "        return dataset.filter(F.col(\"country\").isin(self.getCountriesToFilter()))"
   ],
   "metadata": {
    "collapsed": false
   }
  },
  {
   "cell_type": "code",
   "execution_count": 25,
   "outputs": [
    {
     "name": "stdout",
     "output_type": "stream",
     "text": [
      "+---+----------+---------+--------------------+--------------+\n",
      "| id|first_name|last_name|               email|       country|\n",
      "+---+----------+---------+--------------------+--------------+\n",
      "| 18|   Richard|   Drinan|rdrinanh@odnoklas...|United Kingdom|\n",
      "| 32|    Wallis|  Bamford|wbamfordv@t-onlin...|United Kingdom|\n",
      "| 33|   Saundra|  Westall|swestallw@blinkli...|United Kingdom|\n",
      "| 34|     Ewart|Rosengren|erosengrenx@usato...|United Kingdom|\n",
      "| 36|    Daniel|Buckthorp|dbuckthorpz@tmall...|   Netherlands|\n",
      "| 62|      Boyd|   Barham|  bbarham1p@wisc.edu|   Netherlands|\n",
      "| 67|     Lorry|  Beavors|lbeavors1u@techno...|United Kingdom|\n",
      "| 70|  Freedman|   Dresse|fdresse1x@bloglin...|United Kingdom|\n",
      "| 91|      Audy|   Eplate|aeplate2i@webeden...|United Kingdom|\n",
      "|105|     Lacie|  Infante|linfante2w@telegr...|   Netherlands|\n",
      "|108|   Rhianna|  Partkya|  rpartkya2z@cdc.gov|   Netherlands|\n",
      "|109|    Marnia|     Dory|    mdory30@uiuc.edu|   Netherlands|\n",
      "|110|     Rhody|  Swindle|rswindle31@tmall.com|   Netherlands|\n",
      "|124|       Wyn|    Darco|wdarco3f@geocitie...|   Netherlands|\n",
      "|128|      Vito| Napthine|vnapthine3j@ning.com|   Netherlands|\n",
      "|165|     Hilda| Heinecke|hheinecke4k@alter...|   Netherlands|\n",
      "|177|   Alfredo|  Wissbey|awissbey4w@geocit...|United Kingdom|\n",
      "|189|    Eduard|     Tsar|     etsar58@ovh.net|   Netherlands|\n",
      "|194|     Irena|  Greated| igreated5d@live.com|   Netherlands|\n",
      "|197|    Penrod|  Volette|  pvolette5g@ask.com|United Kingdom|\n",
      "+---+----------+---------+--------------------+--------------+\n",
      "only showing top 20 rows\n",
      "\n"
     ]
    }
   ],
   "source": [
    "cs = CountryFilter(countries_to_filter=['Netherlands', 'United Kingdom'])\n",
    "\n",
    "transformed_df = cs.transform(clients)\n",
    "transformed_df.show()"
   ],
   "metadata": {
    "collapsed": false
   }
  },
  {
   "cell_type": "code",
   "execution_count": 29,
   "outputs": [],
   "source": [
    "country_filter = CountryFilter(countries_to_filter=['Netherlands', 'United Kingdom'])\n",
    "transformed_clients = country_filter.transform(clients)\n",
    "remove_pii_clients = ColumnRemover(columns_to_remove=[\"first_name\", \"last_name\"])\n",
    "transformed_clients = remove_pii_clients.transform(transformed_clients)"
   ],
   "metadata": {
    "collapsed": false
   }
  },
  {
   "cell_type": "code",
   "execution_count": 30,
   "outputs": [
    {
     "name": "stdout",
     "output_type": "stream",
     "text": [
      "+---+--------------------+--------------+\n",
      "| id|               email|       country|\n",
      "+---+--------------------+--------------+\n",
      "| 18|rdrinanh@odnoklas...|United Kingdom|\n",
      "| 32|wbamfordv@t-onlin...|United Kingdom|\n",
      "| 33|swestallw@blinkli...|United Kingdom|\n",
      "| 34|erosengrenx@usato...|United Kingdom|\n",
      "| 36|dbuckthorpz@tmall...|   Netherlands|\n",
      "| 62|  bbarham1p@wisc.edu|   Netherlands|\n",
      "| 67|lbeavors1u@techno...|United Kingdom|\n",
      "| 70|fdresse1x@bloglin...|United Kingdom|\n",
      "| 91|aeplate2i@webeden...|United Kingdom|\n",
      "|105|linfante2w@telegr...|   Netherlands|\n",
      "|108|  rpartkya2z@cdc.gov|   Netherlands|\n",
      "|109|    mdory30@uiuc.edu|   Netherlands|\n",
      "|110|rswindle31@tmall.com|   Netherlands|\n",
      "|124|wdarco3f@geocitie...|   Netherlands|\n",
      "|128|vnapthine3j@ning.com|   Netherlands|\n",
      "|165|hheinecke4k@alter...|   Netherlands|\n",
      "|177|awissbey4w@geocit...|United Kingdom|\n",
      "|189|     etsar58@ovh.net|   Netherlands|\n",
      "|194| igreated5d@live.com|   Netherlands|\n",
      "|197|  pvolette5g@ask.com|United Kingdom|\n",
      "+---+--------------------+--------------+\n",
      "only showing top 20 rows\n",
      "\n"
     ]
    }
   ],
   "source": [
    "transformed_clients.show()"
   ],
   "metadata": {
    "collapsed": false
   }
  },
  {
   "cell_type": "code",
   "execution_count": 31,
   "outputs": [],
   "source": [
    "remove_credit_card = ColumnRemover(columns_to_remove=[\"cc_n\"])\n",
    "transformed_client_data = remove_credit_card._transform(client_data)"
   ],
   "metadata": {
    "collapsed": false
   }
  },
  {
   "cell_type": "code",
   "execution_count": 32,
   "outputs": [
    {
     "name": "stdout",
     "output_type": "stream",
     "text": [
      "+---+--------------------+--------------------+\n",
      "| id|               btc_a|                cc_t|\n",
      "+---+--------------------+--------------------+\n",
      "|  1|1wjtPamAZeGhRnZfh...|       visa-electron|\n",
      "|  2|1Js9BA1rV31hJFmN2...|                 jcb|\n",
      "|  3|1CoG9ciLQVQCnia5o...| diners-club-enroute|\n",
      "|  4|1GNvinVKGzPBVNZSc...|              switch|\n",
      "|  5|1DHTzZ7ypu3EzWtLB...|                 jcb|\n",
      "|  6|1LWktvit3XBCJNrsj...|                 jcb|\n",
      "|  7|1J71SRGqUjhqPuHaZ...|              switch|\n",
      "|  8|1Q5FAwgXbhRxP1uYp...|          mastercard|\n",
      "|  9|1QKy8RoeWR48nrwkn...|diners-club-carte...|\n",
      "| 10|1NRDQBCtuDqm8Qomr...|diners-club-carte...|\n",
      "| 11|1HcqQ5Ys77sJm3ZJv...|                visa|\n",
      "| 12|1EncEr6Vd5ywk96un...|                 jcb|\n",
      "| 13|14bMXV3h1S6KxGHde...|                 jcb|\n",
      "| 14|1Gi1ZJsBDqCztVjtc...|            bankcard|\n",
      "| 15|1GnNjsnbBTw6w9WHn...|                 jcb|\n",
      "| 16|17y4HG6vY9wDZmeu5...|                 jcb|\n",
      "| 17|14reD6Z1kUjg8QC5Y...|                 jcb|\n",
      "| 18|1ErM8yuF3ytzzxLy1...|      china-unionpay|\n",
      "| 19|1FeH4KecDLZYXEcAu...|          mastercard|\n",
      "| 20|14iPptCE59bQXGocz...|                 jcb|\n",
      "+---+--------------------+--------------------+\n",
      "only showing top 20 rows\n",
      "\n"
     ]
    }
   ],
   "source": [
    "transformed_client_data.show()"
   ],
   "metadata": {
    "collapsed": false
   }
  },
  {
   "cell_type": "code",
   "execution_count": 36,
   "outputs": [],
   "source": [
    "trasf = transformed_clients.join(transformed_client_data, on=\"id\")"
   ],
   "metadata": {
    "collapsed": false
   }
  },
  {
   "cell_type": "code",
   "execution_count": 44,
   "outputs": [],
   "source": [
    "from pyspark import keyword_only\n",
    "from pyspark.ml import Transformer\n",
    "from pyspark.ml.param.shared import HasOutputCols, Param, Params\n",
    "from pyspark.ml.util import DefaultParamsReadable, DefaultParamsWritable\n",
    "import pyspark.sql.functions as F\n",
    "\n",
    "class RenameColumns(Transformer, HasOutputCols, DefaultParamsReadable, DefaultParamsWritable,):\n",
    "\n",
    "    column_dict = Param(\n",
    "        Params._dummy(),\n",
    "        \"column_dict\",\n",
    "        \"What countries to keep.\",\n",
    "    )\n",
    "\n",
    "    @keyword_only\n",
    "    def __init__(self, column_dict = {}):\n",
    "        super(RenameColumns, self).__init__()\n",
    "        self._setDefault(column_dict=['first_name', 'last_name'])\n",
    "        kwargs = self._input_kwargs\n",
    "        self._set(**kwargs)\n",
    "\n",
    "    def getColumnDict(self):\n",
    "        \"\"\"\n",
    "        Gets the value of :py:attr:`value` or its default value.\n",
    "        \"\"\"\n",
    "        return self.getOrDefault(self.column_dict)\n",
    "\n",
    "    def _transform(self, dataset):\n",
    "        column_mapping = self.getColumnDict()\n",
    "        all_columns = dataset.columns\n",
    "        renamed_columns = [F.col(column).alias(column_mapping[column]) if column in column_mapping else F.col(column) for column in all_columns]\n",
    "        return dataset.select(renamed_columns)"
   ],
   "metadata": {
    "collapsed": false
   }
  },
  {
   "cell_type": "code",
   "execution_count": 45,
   "outputs": [],
   "source": [
    "column_renamer = RenameColumns(column_dict={\"id\":\"client_identifier\", \"btc_a\":\"bitcoin\"})\n",
    "output = column_renamer.transform(trasf)"
   ],
   "metadata": {
    "collapsed": false
   }
  },
  {
   "cell_type": "code",
   "execution_count": 46,
   "outputs": [
    {
     "name": "stdout",
     "output_type": "stream",
     "text": [
      "+-----------------+--------------------+--------------+--------------------+--------------------+\n",
      "|client_identifier|               email|       country|             bitcoin|                cc_t|\n",
      "+-----------------+--------------------+--------------+--------------------+--------------------+\n",
      "|               18|rdrinanh@odnoklas...|United Kingdom|1ErM8yuF3ytzzxLy1...|      china-unionpay|\n",
      "|               32|wbamfordv@t-onlin...|United Kingdom|12sxmYnPcADAXw1Yk...|             maestro|\n",
      "|               33|swestallw@blinkli...|United Kingdom|1GZ7QB7GUFSWnkBHm...|          mastercard|\n",
      "|               34|erosengrenx@usato...|United Kingdom|12o8zrHx6snCPbtko...|       visa-electron|\n",
      "|               36|dbuckthorpz@tmall...|   Netherlands|15X53Z9B9jUNrvFpb...|diners-club-inter...|\n",
      "|               62|  bbarham1p@wisc.edu|   Netherlands|16qpYVt6YAAx4JYjz...|                 jcb|\n",
      "|               67|lbeavors1u@techno...|United Kingdom|12ya1ED93ApPBQRSC...|            bankcard|\n",
      "|               70|fdresse1x@bloglin...|United Kingdom|1F8zXTEaf4AFpztMN...|          mastercard|\n",
      "|               91|aeplate2i@webeden...|United Kingdom|19MZSy1H8S4SaXsmS...|diners-club-carte...|\n",
      "|              105|linfante2w@telegr...|   Netherlands|13j6FKzrLgumLUqeY...|                 jcb|\n",
      "|              108|  rpartkya2z@cdc.gov|   Netherlands|1RcsodKknm8thkCL6...|             maestro|\n",
      "|              109|    mdory30@uiuc.edu|   Netherlands|1HxV2jkyM3PXbsH4q...|                 jcb|\n",
      "|              110|rswindle31@tmall.com|   Netherlands|15cRJ4mzZd4Vgd33x...|      china-unionpay|\n",
      "|              124|wdarco3f@geocitie...|   Netherlands|1CB7AdhTFBXmxuABm...|             maestro|\n",
      "|              128|vnapthine3j@ning.com|   Netherlands|16DbYq1KR8DVSQu5E...| diners-club-enroute|\n",
      "|              165|hheinecke4k@alter...|   Netherlands|1KgbP1KXt5xs2sBLu...|                 jcb|\n",
      "|              177|awissbey4w@geocit...|United Kingdom|1AJzqEgbbFh2TNLFZ...|     americanexpress|\n",
      "|              189|     etsar58@ovh.net|   Netherlands|1PktCHyic9G4aZu15...|                 jcb|\n",
      "|              194| igreated5d@live.com|   Netherlands|12KTfvJwTfnJn3dFt...|                 jcb|\n",
      "|              197|  pvolette5g@ask.com|United Kingdom|1Q6UV84patYXfzEdA...| diners-club-enroute|\n",
      "+-----------------+--------------------+--------------+--------------------+--------------------+\n",
      "only showing top 20 rows\n",
      "\n"
     ]
    }
   ],
   "source": [
    "output.show()"
   ],
   "metadata": {
    "collapsed": false
   }
  },
  {
   "cell_type": "code",
   "execution_count": null,
   "outputs": [],
   "source": [],
   "metadata": {
    "collapsed": false
   }
  }
 ],
 "metadata": {
  "kernelspec": {
   "display_name": "Python 3",
   "language": "python",
   "name": "python3"
  },
  "language_info": {
   "codemirror_mode": {
    "name": "ipython",
    "version": 2
   },
   "file_extension": ".py",
   "mimetype": "text/x-python",
   "name": "python",
   "nbconvert_exporter": "python",
   "pygments_lexer": "ipython2",
   "version": "2.7.6"
  }
 },
 "nbformat": 4,
 "nbformat_minor": 0
}
